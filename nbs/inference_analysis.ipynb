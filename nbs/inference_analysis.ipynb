{
 "cells": [
  {
   "cell_type": "markdown",
   "id": "44403e34-12dd-4a11-b5fc-796295abb27a",
   "metadata": {},
   "source": [
    "# Analysis of MLPF inference results"
   ]
  },
  {
   "cell_type": "code",
   "execution_count": null,
   "id": "db1a5433-054c-4d17-8f43-eac8e77b8a3d",
   "metadata": {},
   "outputs": [],
   "source": [
    "pwd"
   ]
  },
  {
   "cell_type": "code",
   "execution_count": null,
   "id": "dc14b481-580f-448f-b3c2-498b7efdf082",
   "metadata": {},
   "outputs": [],
   "source": [
    "import numpy as np\n",
    "from pathlib import Path\n",
    "import json\n",
    "import matplotlib.pyplot as plt\n",
    "import matplotlib as mpl\n",
    "import pandas as pd"
   ]
  },
  {
   "cell_type": "code",
   "execution_count": null,
   "id": "7aaef48f-7e43-4de9-99da-051dd2b67002",
   "metadata": {},
   "outputs": [],
   "source": [
    "result_dir = '/mnt/ceph/users/ewulff/particleflow/inference_tests/'\n",
    "result_files = list(Path(result_dir).glob(\"*\"))"
   ]
  },
  {
   "cell_type": "code",
   "execution_count": null,
   "id": "d4aa0186-8f6b-4a6a-91e7-4baea7fc4451",
   "metadata": {},
   "outputs": [],
   "source": [
    "for f in result_files:\n",
    "    print(f)"
   ]
  },
  {
   "cell_type": "code",
   "execution_count": null,
   "id": "7a15e40a-dc13-4d8d-a88b-15bb68041da9",
   "metadata": {},
   "outputs": [],
   "source": [
    "file = result_files[0]"
   ]
  },
  {
   "cell_type": "code",
   "execution_count": null,
   "id": "0778bdee-7ba2-4a89-a8bf-66444a952a6c",
   "metadata": {},
   "outputs": [],
   "source": [
    "with file.open(\"r\", encoding=\"utf-8\") as f:\n",
    "    data = json.load(f)\n",
    "results = data[\"results\"]"
   ]
  },
  {
   "cell_type": "code",
   "execution_count": null,
   "id": "5854f002-1b08-4fb9-ba90-196a3fca6346",
   "metadata": {},
   "outputs": [],
   "source": [
    "def result2vars(result):\n",
    "    mean_throughput = result[\"wl-scores\"][\"mean_throughput\"]\n",
    "    mean_run_time = result[\"wl-scores\"][\"mean_run_time\"]\n",
    "    batch_size = result[\"wl-stats\"][\"batch_size\"]\n",
    "    events_per_run = result[\"wl-stats\"][\"events_per_run\"]\n",
    "    return mean_throughput, mean_run_time, batch_size, events_per_run"
   ]
  },
  {
   "cell_type": "code",
   "execution_count": null,
   "id": "2ed3f38e-d263-4b5f-bcba-1ecfc12478e1",
   "metadata": {},
   "outputs": [],
   "source": [
    "mean_throughput, mean_run_time, batch_size, events_per_run = result2vars(results[0])\n",
    "mean_throughput, mean_run_time, batch_size, events_per_run"
   ]
  },
  {
   "cell_type": "code",
   "execution_count": null,
   "id": "162920c2-9f9f-42c6-8b91-4fb8ca2c851b",
   "metadata": {},
   "outputs": [],
   "source": [
    "def file2nodename(file):\n",
    "    return file.stem.split(\"_\")[-1]"
   ]
  },
  {
   "cell_type": "code",
   "execution_count": null,
   "id": "aaf08e5a-3c93-4ddd-8693-51f239f36a52",
   "metadata": {},
   "outputs": [],
   "source": [
    "def file2lists(file):\n",
    "    with file.open(\"r\", encoding=\"utf-8\") as f:\n",
    "        data = json.load(f)\n",
    "    results = data[\"results\"]\n",
    "\n",
    "    mean_throughputs = []\n",
    "    mean_run_times = []\n",
    "    batch_sizes = []\n",
    "    for result in results:\n",
    "        mean_throughput, mean_run_time, batch_size, events_per_run = result2vars(result)\n",
    "        mean_throughputs.append(mean_throughput)\n",
    "        mean_run_times.append(mean_run_time)\n",
    "        batch_sizes.append(batch_size)\n",
    "    sorted_indices = np.argsort(batch_sizes)\n",
    "    return np.array(mean_throughputs)[sorted_indices], np.array(mean_run_times)[sorted_indices], np.array(batch_sizes)[sorted_indices]"
   ]
  },
  {
   "cell_type": "code",
   "execution_count": null,
   "id": "d636c064-8a77-49f5-8aac-2ee5b3a9dc3d",
   "metadata": {},
   "outputs": [],
   "source": [
    "mpl.rc_file(\"my_matplotlib_rcparams.txt\")"
   ]
  },
  {
   "cell_type": "code",
   "execution_count": null,
   "id": "e8f553b1-4bd9-41fd-a76a-d36eb5eace9e",
   "metadata": {},
   "outputs": [],
   "source": [
    "def file2plot_throughput(file):\n",
    "    mean_throughputs, mean_run_times, batch_sizes = file2lists(file)\n",
    "    p = plt.plot(batch_sizes, mean_throughputs, label=file2nodename(file), marker=\"D\")\n",
    "    linear = mean_throughputs[0] * np.array([1, 2, 4, 8, 16, 32, 64, 128, 256, 512, 1024])\n",
    "    plt.plot(batch_sizes, linear, linestyle=\"--\", color=p[-1].get_color())\n",
    "    return batch_sizes\n",
    "def file2plot_runtime(file):\n",
    "    mean_throughputs, mean_run_times, batch_sizes = file2lists(file)\n",
    "    plt.plot(batch_sizes, mean_run_times, label=file2nodename(file), marker=\"D\")"
   ]
  },
  {
   "cell_type": "code",
   "execution_count": null,
   "id": "4191d462-5b0f-4e21-8a1b-b5d9a9213c7a",
   "metadata": {},
   "outputs": [],
   "source": [
    "for file in result_files:\n",
    "    batch_sizes = file2plot_throughput(file)\n",
    "    plt.legend(loc=(0.65, 0.1))\n",
    "    plt.xlabel(\"Batch size\")\n",
    "    plt.ylabel(\"Throughput [events/s]\")\n",
    "    # plt.title(\"Tests on \" + file2nodename(file))\n",
    "    plt.xscale('log')\n",
    "    plt.yscale('log')\n",
    "    plt.xticks(batch_sizes, labels=batch_sizes)\n",
    "    plt.yticks([1, 10, 100, 1000])\n",
    "    plt.ylim((10, 1000))\n",
    "    plt.xlim((0, None))\n",
    "plt.show()"
   ]
  },
  {
   "cell_type": "code",
   "execution_count": null,
   "id": "4b72060a-59cf-4e50-90ed-b969034c9edd",
   "metadata": {},
   "outputs": [],
   "source": [
    "data = {}\n",
    "for file in result_files:\n",
    "    mean_throughputs, mean_run_times, batch_sizes = file2lists(file)\n",
    "    nodename = file2nodename(file)\n",
    "    data[nodename] = mean_throughputs\n",
    "    \n",
    "df = pd.DataFrame(data=data, index=[\"batch_size={:d}\".format(x) for x in batch_sizes])\n",
    "df = df.reindex(sorted(df.columns), axis=1)\n",
    "df"
   ]
  },
  {
   "cell_type": "code",
   "execution_count": null,
   "id": "d30b87c2-ad39-4b06-8028-0ebaf56b24dc",
   "metadata": {},
   "outputs": [],
   "source": [
    "for file in result_files:\n",
    "    file2plot_runtime(file)\n",
    "    plt.legend(loc=(0.65, 0.6))\n",
    "    plt.xlabel(\"Batch size\")\n",
    "    plt.ylabel(\"Runtime [s]\")\n",
    "    # plt.title(\"Tests on \" + file2nodename(file))\n",
    "    plt.xscale('log')\n",
    "    plt.yscale('log')\n",
    "    plt.xticks(batch_sizes, labels=batch_sizes)\n",
    "plt.show()"
   ]
  },
  {
   "cell_type": "code",
   "execution_count": null,
   "id": "175bc751-1ced-476a-990b-5950c0a0baed",
   "metadata": {},
   "outputs": [],
   "source": []
  }
 ],
 "metadata": {
  "kernelspec": {
   "display_name": "tf2",
   "language": "python",
   "name": "tf2"
  },
  "language_info": {
   "codemirror_mode": {
    "name": "ipython",
    "version": 3
   },
   "file_extension": ".py",
   "mimetype": "text/x-python",
   "name": "python",
   "nbconvert_exporter": "python",
   "pygments_lexer": "ipython3",
   "version": "3.9.5"
  }
 },
 "nbformat": 4,
 "nbformat_minor": 5
}
