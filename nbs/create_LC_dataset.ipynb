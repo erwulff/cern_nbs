{
 "cells": [
  {
   "cell_type": "code",
   "execution_count": null,
   "id": "1ec7b62b-d1b6-451a-a7bd-9ce6cfebc276",
   "metadata": {},
   "outputs": [],
   "source": [
    "import pandas as pd\n",
    "from tqdm import tqdm\n",
    "import pickle\n",
    "from ray.tune import Analysis, ExperimentAnalysis"
   ]
  },
  {
   "cell_type": "code",
   "execution_count": null,
   "id": "f1793c24-985d-4c99-b3ea-9c33e427be0d",
   "metadata": {},
   "outputs": [],
   "source": [
    "import sys\n",
    "sys.path.append(\"/p/project/raise-ctp2/cern/particleflow/mlpf\")\n",
    "from utils import count_skipped_configurations"
   ]
  },
  {
   "cell_type": "code",
   "execution_count": null,
   "id": "a6c55b2d-7472-4923-8d60-52e4983d8a39",
   "metadata": {},
   "outputs": [],
   "source": [
    "ray_results_folder = \"/p/project/raise-ctp2/cern/ray_results/\"  # Main folder containing all ray experiments\n",
    "\n",
    "# Which experiment to analyze\n",
    "exp_dir = ray_results_folder + \"delphes_svr_dataset\""
   ]
  },
  {
   "cell_type": "code",
   "execution_count": null,
   "id": "20fe7551-161c-4093-a83b-28a2f02e6641",
   "metadata": {},
   "outputs": [],
   "source": [
    "expanalysis = ExperimentAnalysis(exp_dir, default_metric=\"val_loss\", default_mode=\"min\")\n",
    "result_df = expanalysis.dataframe()"
   ]
  },
  {
   "cell_type": "code",
   "execution_count": null,
   "id": "75851e79-da25-4190-8532-c60de8ed66c9",
   "metadata": {},
   "outputs": [],
   "source": [
    "hp_df = pd.concat([result_df[\"trial_id\"], result_df.filter(regex=\"config/*\")], axis=1)\n",
    "hp_df"
   ]
  },
  {
   "cell_type": "code",
   "execution_count": null,
   "id": "31444f64-ed0e-453c-8048-3641ceca4fbd",
   "metadata": {},
   "outputs": [],
   "source": [
    "learning_curves = {}\n",
    "for logdir, trial_df in tqdm(expanalysis.trial_dataframes.items(), total=len(expanalysis.trial_dataframes)):\n",
    "    trial_id = trial_df[\"trial_id\"].values[0]\n",
    "    learning_curves.update({trial_id: [trial_df, hp_df[hp_df[\"trial_id\"] == trial_id]]})"
   ]
  },
  {
   "cell_type": "code",
   "execution_count": null,
   "id": "bd02f8ed-78b6-45a0-992a-1c6eced40e80",
   "metadata": {},
   "outputs": [],
   "source": [
    "list(learning_curves.keys())[:6]"
   ]
  },
  {
   "cell_type": "code",
   "execution_count": null,
   "id": "d9f7eb75-bad2-4188-b478-0ff52b61d431",
   "metadata": {},
   "outputs": [],
   "source": [
    "example_trial = learning_curves['8275d_00122']\n",
    "type(example_trial), len(example_trial)"
   ]
  },
  {
   "cell_type": "code",
   "execution_count": null,
   "id": "2e44e0bd-a481-4c3a-9ab7-12836dcd6a96",
   "metadata": {},
   "outputs": [],
   "source": [
    "print('Trial shape:', example_trial[0].shape)\n",
    "example_trial[0].head(3)"
   ]
  },
  {
   "cell_type": "code",
   "execution_count": null,
   "id": "e07a3aff-7bbc-4d42-8d67-9d64abce4c34",
   "metadata": {},
   "outputs": [],
   "source": [
    "example_trial[1]"
   ]
  },
  {
   "cell_type": "code",
   "execution_count": null,
   "id": "e98edaa3-588f-41a4-b6bb-3f5f93c66054",
   "metadata": {},
   "outputs": [],
   "source": [
    "with open('LC_data.pkl', 'wb') as f:\n",
    "    pickle.dump(learning_curves, f)"
   ]
  },
  {
   "cell_type": "code",
   "execution_count": null,
   "id": "c8662814-eba4-4e66-b373-72777768ce1d",
   "metadata": {},
   "outputs": [],
   "source": []
  }
 ],
 "metadata": {
  "kernelspec": {
   "display_name": "tf2_ray112",
   "language": "python",
   "name": "tf2_ray112"
  },
  "language_info": {
   "codemirror_mode": {
    "name": "ipython",
    "version": 3
   },
   "file_extension": ".py",
   "mimetype": "text/x-python",
   "name": "python",
   "nbconvert_exporter": "python",
   "pygments_lexer": "ipython3",
   "version": "3.9.12"
  }
 },
 "nbformat": 4,
 "nbformat_minor": 5
}
