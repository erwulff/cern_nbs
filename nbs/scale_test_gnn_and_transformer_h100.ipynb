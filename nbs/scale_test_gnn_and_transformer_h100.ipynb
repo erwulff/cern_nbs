{
 "cells": [
  {
   "cell_type": "code",
   "execution_count": null,
   "id": "eb9bb67b-4033-4088-b5c6-d9f1840b2c55",
   "metadata": {},
   "outputs": [],
   "source": [
    "pwd"
   ]
  },
  {
   "cell_type": "code",
   "execution_count": null,
   "id": "a9f8fcd5-5151-46d6-828d-5b53f0a2e9d4",
   "metadata": {},
   "outputs": [],
   "source": [
    "from pathlib import Path\n",
    "import json\n",
    "import numpy as np\n",
    "import matplotlib.pyplot as plt\n",
    "import matplotlib as mpl"
   ]
  },
  {
   "cell_type": "code",
   "execution_count": null,
   "id": "c0a75dc0-560f-49e8-b42d-fdc8456dc399",
   "metadata": {},
   "outputs": [],
   "source": [
    "def get_train_dirs(glob : str):\n",
    "    return list(Path(\"/mnt/ceph/users/ewulff/particleflow/experiments/\")\n",
    "                  .glob(glob))\n",
    "                  # .glob(\"scale_test_cudavisdev_tuned_trasnformer*\"))"
   ]
  },
  {
   "cell_type": "code",
   "execution_count": null,
   "id": "c032efa5-5f85-458b-9a3c-bdb0fd0b412d",
   "metadata": {},
   "outputs": [],
   "source": [
    "def get_results(train_dirs):\n",
    "    results = []\n",
    "    for td in train_dirs:\n",
    "        with open(td / \"result.json\", 'r') as f:\n",
    "            results.append(json.load(f))\n",
    "    return results"
   ]
  },
  {
   "cell_type": "code",
   "execution_count": null,
   "id": "37e4bd58-1001-4572-b620-fa1b332221cf",
   "metadata": {},
   "outputs": [],
   "source": [
    "def get_stats_as_arrays(results):\n",
    "    throughput = np.zeros(shape=(len(results)))\n",
    "    mean_epoch_times = np.zeros(shape=(len(results)))\n",
    "    for result in results:\n",
    "        ngpus = result[\"wl-stats\"][\"GPU\"]\n",
    "        throughput[ngpus-1] = result[\"wl-scores\"][\"mean_throughput\"]\n",
    "        mean_epoch_times[ngpus-1] = result[\"wl-scores\"][\"mean_epoch_time\"]\n",
    "    return throughput, mean_epoch_times"
   ]
  },
  {
   "cell_type": "code",
   "execution_count": null,
   "id": "3139fc4c-2172-41d3-b0b2-6a7da69d09c0",
   "metadata": {},
   "outputs": [],
   "source": [
    "mpl.rc_file(\"my_matplotlib_rcparams.txt\")"
   ]
  },
  {
   "cell_type": "code",
   "execution_count": null,
   "id": "c8633185-e90a-416f-803f-ee2feaa01f66",
   "metadata": {},
   "outputs": [],
   "source": [
    "train_dirs = get_train_dirs(\"scale_testV3*\")\n",
    "results = get_results(train_dirs)\n",
    "throughput, mean_epoch_times = get_stats_as_arrays(results)"
   ]
  },
  {
   "cell_type": "code",
   "execution_count": null,
   "id": "20132f19-2142-4420-a8c1-9cbdd8a7aca2",
   "metadata": {},
   "outputs": [],
   "source": [
    "plt.plot(throughput / throughput[0], label=\"Measured\")\n",
    "gpu1 = throughput[0] / throughput[0]\n",
    "linear = np.arange(1, 9) * gpu1\n",
    "plt.plot(linear, color=\"black\", linestyle=\"--\", label=\"Optimal\")\n",
    "plt.xticks(ticks=range(0,len(throughput)), labels=range(1,len(throughput)+1))\n",
    "plt.xlabel(\"NVIDIA H100 GPUs\")\n",
    "plt.ylabel(\"Speedup over 1 GPU\")\n",
    "plt.title(\"Single machine scale test, GNN-based MLPF training\")\n",
    "plt.savefig(\"single_machine_speedup_gnn_mlpf.pdf\")\n",
    "plt.show()"
   ]
  },
  {
   "cell_type": "code",
   "execution_count": null,
   "id": "0f397902-8df1-4262-ac08-d64bd1718d54",
   "metadata": {},
   "outputs": [],
   "source": []
  },
  {
   "cell_type": "code",
   "execution_count": null,
   "id": "42dd9fca-a376-4749-8f2a-30261905abbe",
   "metadata": {},
   "outputs": [],
   "source": [
    "train_dirs = get_train_dirs(\"scale_test_data*\")\n",
    "results = get_results(train_dirs)\n",
    "throughput_hvd, mean_epoch_times = get_stats_as_arrays(results)"
   ]
  },
  {
   "cell_type": "code",
   "execution_count": null,
   "id": "2a874b52-41a1-431d-bc84-7563f43b1b56",
   "metadata": {},
   "outputs": [],
   "source": [
    "# throughput_hvd = 1596131. / mean_epoch_times\n",
    "throughput_hvd = 50000. / mean_epoch_times\n",
    "plt.plot(throughput / throughput[0], label=\"TF MirroredStrategy\")\n",
    "plt.plot(throughput_hvd / throughput_hvd[0], label=\"Horovod\")\n",
    "gpu1 = throughput_hvd[0] / throughput_hvd[0]\n",
    "linear = np.arange(1, 9) * gpu1\n",
    "plt.plot(linear, color=\"black\", linestyle=\"--\", label=\"Linear\")\n",
    "plt.legend()\n",
    "plt.xticks(ticks=range(0,len(throughput)), labels=range(1,len(throughput)+1))\n",
    "plt.xlabel(\"NVIDIA H100 GPUs\")\n",
    "plt.ylabel(\"Speedup over 1 GPU\")\n",
    "plt.title(\"Single machine scale test, GNN-based MLPF training\")\n",
    "plt.savefig(\"single_machine_speedup_gnn_mlpf_TF_and_HVD.pdf\")\n",
    "plt.show()"
   ]
  },
  {
   "cell_type": "code",
   "execution_count": null,
   "id": "ba55866f-f8d2-44a0-b509-b36bd1d05194",
   "metadata": {},
   "outputs": [],
   "source": [
    "for i in range(len(throughput)):\n",
    "    print(round(throughput[i]), round(throughput_hvd[i]))"
   ]
  },
  {
   "cell_type": "markdown",
   "id": "2d435e87-52ee-475c-983a-eb1d502fd708",
   "metadata": {},
   "source": [
    "# Scale test GNN single machine 1 to 8 NVIDIA H100"
   ]
  },
  {
   "cell_type": "code",
   "execution_count": null,
   "id": "fd646775-26fc-444e-ac02-e7773f66ea6d",
   "metadata": {},
   "outputs": [],
   "source": [
    "train_dirs = list(Path(\"/mnt/ceph/users/ewulff/particleflow/experiments/\")\n",
    "                  .glob(\"scale_test_tuned_gnn_*\"))\n",
    "train_dirs"
   ]
  },
  {
   "cell_type": "code",
   "execution_count": null,
   "id": "c2513f81-1ae8-4b6c-8c10-634d973c2768",
   "metadata": {},
   "outputs": [],
   "source": [
    "results = []\n",
    "for td in train_dirs:\n",
    "    with open(td / \"result.json\", 'r') as f:\n",
    "        results.append(json.load(f))\n",
    "throughput_gnn = np.zeros(shape=(8))\n",
    "for result in results:\n",
    "    ngpus = result[\"wl-stats\"][\"GPU\"]\n",
    "    throughput_gnn[ngpus-1] = result[\"wl-scores\"][\"mean_throughput\"]"
   ]
  },
  {
   "cell_type": "code",
   "execution_count": null,
   "id": "0bc9d2ae-f1bf-479c-879e-f983fc2895d5",
   "metadata": {},
   "outputs": [],
   "source": [
    "throughput_gnn"
   ]
  },
  {
   "cell_type": "code",
   "execution_count": null,
   "id": "8e11e1c2-f756-4ece-b9a3-3e4a410af1d6",
   "metadata": {},
   "outputs": [],
   "source": [
    "plt.plot(throughput_gnn / throughput_gnn[0], label=\"Measured\")\n",
    "gpu1 = throughput_gnn[0] / throughput_gnn[0]\n",
    "linear = np.arange(1, 9) * gpu1\n",
    "plt.plot(linear, color=\"black\", linestyle=\"--\", label=\"Optimal\")\n",
    "plt.xticks(ticks=range(0,len(throughput_gnn)), labels=range(1,len(throughput_gnn)+1))\n",
    "plt.xlabel(\"NVIDIA H100 GPUs\")\n",
    "plt.ylabel(\"Speedup over single device\")\n",
    "plt.title(\"Single machine scale test, GNN-based MLPF training\")\n",
    "plt.legend()\n",
    "plt.savefig(\"single_machine_scale_test_gnn_mlpf.pdf\")\n",
    "plt.show()"
   ]
  },
  {
   "cell_type": "code",
   "execution_count": null,
   "id": "62ffa1fb-570e-4bf6-8529-0588f349971c",
   "metadata": {},
   "outputs": [],
   "source": [
    "plt.plot(throughput_gnn, label=\"Measured\")\n",
    "gpu1 = throughput_gnn[0]\n",
    "linear = np.arange(1, 9) * gpu1\n",
    "plt.plot(linear, color=\"black\", linestyle=\"--\", label=\"Optimal\")\n",
    "plt.xticks(ticks=range(0,len(throughput_gnn)), labels=range(1,len(throughput_gnn)+1))\n",
    "plt.xlabel(\"NVIDIA H100 GPUs\")\n",
    "plt.ylabel(\"Througput (samples / second)\")\n",
    "plt.title(\"Single machine scale test, GNN-based MLPF training\")\n",
    "plt.legend()\n",
    "plt.savefig(\"single_machine_scale_test_gnn_mlpf.pdf\")\n",
    "plt.show()"
   ]
  },
  {
   "cell_type": "code",
   "execution_count": null,
   "id": "a2734fc5-6078-48a5-9686-ff599847ee41",
   "metadata": {},
   "outputs": [],
   "source": [
    "plt.plot(throughput_gnn, label=\"GNN\")\n",
    "plt.plot(throughput, label=\"Transformer\")\n",
    "gpu1_gnn = throughput_gnn[0]\n",
    "gpu1 = throughput[0]\n",
    "linear = np.arange(1, 9) * gpu1\n",
    "linear_gnn = np.arange(1, 9) * gpu1_gnn\n",
    "plt.plot(linear, color=\"black\", linestyle=\"--\", label=\"Linear scaling\")\n",
    "plt.plot(linear_gnn, color=\"black\", linestyle=\"--\")\n",
    "plt.xticks(ticks=range(0,len(throughput)), labels=range(1,len(throughput)+1))\n",
    "plt.xlabel(\"NVIDIA H100 GPUs\")\n",
    "plt.ylabel(\"Througput (samples / second)\")\n",
    "plt.title(\"Single machine scale test, MLPF training\")\n",
    "plt.legend()\n",
    "plt.savefig(\"single_machine_scale_test_mlpf.pdf\")\n",
    "plt.show()"
   ]
  },
  {
   "cell_type": "code",
   "execution_count": null,
   "id": "f644b062-c99e-45a1-b21d-4495e044aff6",
   "metadata": {},
   "outputs": [],
   "source": []
  }
 ],
 "metadata": {
  "kernelspec": {
   "display_name": "tf2",
   "language": "python",
   "name": "tf2"
  },
  "language_info": {
   "codemirror_mode": {
    "name": "ipython",
    "version": 3
   },
   "file_extension": ".py",
   "mimetype": "text/x-python",
   "name": "python",
   "nbconvert_exporter": "python",
   "pygments_lexer": "ipython3",
   "version": "3.9.5"
  }
 },
 "nbformat": 4,
 "nbformat_minor": 5
}
