{
 "cells": [
  {
   "cell_type": "code",
   "execution_count": null,
   "id": "1b2e4de5-084a-4d00-b0a9-91400678f860",
   "metadata": {},
   "outputs": [],
   "source": [
    "pwd"
   ]
  },
  {
   "cell_type": "code",
   "execution_count": null,
   "id": "778675c8-69ff-4fc0-8df7-edf5a66d6b3d",
   "metadata": {},
   "outputs": [],
   "source": [
    "import sys\n",
    "sys.path.append(\"/p/project/raise-ctp2/cern/particleflow/mlpf\")"
   ]
  },
  {
   "cell_type": "code",
   "execution_count": null,
   "id": "e4aa0bb6-e28c-4a9f-bcbd-a582781517bc",
   "metadata": {},
   "outputs": [],
   "source": [
    "# mlpf pipeline imports\n",
    "import os\n",
    "import yaml\n",
    "import json\n",
    "import datetime\n",
    "import glob\n",
    "import random\n",
    "import platform\n",
    "import numpy as np\n",
    "from pathlib import Path\n",
    "import click\n",
    "from tqdm import tqdm\n",
    "import shutil\n",
    "from functools import partial\n",
    "import shlex\n",
    "import subprocess\n",
    "\n",
    "import tensorflow as tf\n",
    "from tensorflow.keras import mixed_precision\n",
    "import tensorflow_addons as tfa\n",
    "import keras_tuner as kt"
   ]
  },
  {
   "cell_type": "code",
   "execution_count": null,
   "id": "c5c61e5c-03ab-46f5-9cd3-57c00144e938",
   "metadata": {},
   "outputs": [],
   "source": [
    "import ray\n",
    "from ray import tune\n",
    "from ray.tune.integration.keras import TuneReportCheckpointCallback\n",
    "from ray.tune.integration.tensorflow import DistributedTrainableCreator\n",
    "from ray.tune.logger import TBXLoggerCallback\n",
    "from ray.tune import Analysis, ExperimentAnalysis"
   ]
  },
  {
   "cell_type": "code",
   "execution_count": null,
   "id": "32e4f785-2118-46fe-9cd1-0bd5723a1e0c",
   "metadata": {},
   "outputs": [],
   "source": [
    "import matplotlib.pyplot as plt\n",
    "import pandas as pd\n",
    "import seaborn as sns"
   ]
  },
  {
   "cell_type": "code",
   "execution_count": null,
   "id": "0e66ec74-578c-441f-8880-5ed53ab402a5",
   "metadata": {},
   "outputs": [],
   "source": [
    "from matplotlib import rc_file\n",
    "rc_file(\"my_matplotlib_rcparams.txt\")"
   ]
  },
  {
   "cell_type": "code",
   "execution_count": null,
   "id": "f7f4192f-1bb5-451a-87ee-93c46d4632de",
   "metadata": {},
   "outputs": [],
   "source": [
    "##### FZJ #####\n",
    "ray_results_folder = \"/p/project/raise-ctp2/cern/ray_results/\"  # Main folder containing all ray experiments\n",
    "###############\n",
    "\n",
    "\n",
    "##### Flatiron #####\n",
    "ray_results_folder = \"/mnt/ceph/users/ewulff/ray_results/\"  # Main folder containing all ray experiments\n",
    "exp_dir = ray_results_folder + \"clic_gnn_search_asha_hyperopt_n500\"\n",
    "####################"
   ]
  },
  {
   "cell_type": "code",
   "execution_count": null,
   "id": "ab034db2-4930-4983-bade-eeb3f5c6b2af",
   "metadata": {},
   "outputs": [],
   "source": [
    "ll $ray_results_folder"
   ]
  },
  {
   "cell_type": "code",
   "execution_count": null,
   "id": "abed3235-806f-4344-a223-d8d7f3d9fd1a",
   "metadata": {},
   "outputs": [],
   "source": [
    "# Which experiments to analyze\n",
    "exp_dir_list = [# ray_results_folder + \"cmsgen_asha_epochs50\",\n",
    "                # ray_results_folder + \"cmsgen_asha_epochs100\",\n",
    "                # ray_results_folder + \"cmsgen_asha_scikit_epochs50_samples400_OneGPUPerTrial\",\n",
    "                # ray_results_folder + \"cmsgen_asha_scikit_epochs50_samples200_FourGPUPerTrial\",\n",
    "                # ray_results_folder + \"clic_transformer_search_asha_n500\",\n",
    "                ray_results_folder + \"clic_transformer_search_asha_hyperopt_n500\",\n",
    "               ]\n",
    "\n",
    "##### Flatiron\n",
    "exp_dir_list = [ray_results_folder + \"clic_gnn_scan\",\n",
    "                ray_results_folder + \"clic_gnn_scan_epochs3500\",\n",
    "                ray_results_folder + \"clic_gnn_search_asha_hyperopt_n500\",\n",
    "               ]"
   ]
  },
  {
   "cell_type": "code",
   "execution_count": null,
   "id": "bda4ef08-29d9-425c-9036-dcbf291468a8",
   "metadata": {},
   "outputs": [],
   "source": [
    "default_mode = \"min\"\n",
    "default_metric = \"val_loss\"\n",
    "expanalysis_list = []\n",
    "for exp_dir in exp_dir_list:\n",
    "    expanalysis_list.append(ExperimentAnalysis(exp_dir, default_metric=default_metric, default_mode=default_mode))"
   ]
  },
  {
   "cell_type": "code",
   "execution_count": null,
   "id": "ea11aa8a-ea1f-4990-99e7-1997337212c8",
   "metadata": {},
   "outputs": [],
   "source": [
    "def robust_get_df(analysis):\n",
    "    try:\n",
    "        result_df = analysis.dataframe()\n",
    "    except IndexError:\n",
    "        result_df = analysis.results_df.dropna(axis=0, how=\"all\")\n",
    "    return result_df"
   ]
  },
  {
   "cell_type": "code",
   "execution_count": null,
   "id": "97015e7e-814d-4473-b82f-9be79c7225db",
   "metadata": {},
   "outputs": [],
   "source": [
    "print(\"Time from start to timestamp:\")\n",
    "for expanalysis in expanalysis_list:\n",
    "    res_df = robust_get_df(expanalysis)\n",
    "    exp_dir = Path(res_df['logdir'][0]).parent\n",
    "    stats = expanalysis.stats() \n",
    "    print(\"{:.2f}\".format((stats[\"timestamp\"] - stats[\"start_time\"]) / 60 / 60), \"h\", exp_dir)"
   ]
  },
  {
   "cell_type": "code",
   "execution_count": null,
   "id": "89482359-f266-45b9-83f5-2d32f7c4a50d",
   "metadata": {},
   "outputs": [],
   "source": [
    "res_df.keys()"
   ]
  },
  {
   "cell_type": "code",
   "execution_count": null,
   "id": "d961e925-4d3e-40d9-889c-e1218e96d564",
   "metadata": {},
   "outputs": [],
   "source": [
    "def summarize_best_results(expanalysis_list):\n",
    "    summ = []\n",
    "    for expanalysis in expanalysis_list:\n",
    "        res_df = robust_get_df(expanalysis)\n",
    "        exp_dir = Path(res_df['logdir'][0]).parent\n",
    "\n",
    "        dd = expanalysis.best_result\n",
    "        val_reg_loss = sum([dd[\"val_{}_loss\".format(l)] for l in [\"energy\", \"pt\", \"eta\", \"sin_phi\", \"cos_phi\", \"charge\"]])\n",
    "        reg_loss = sum([dd[\"{}_loss\".format(l)] for l in [\"energy\", \"pt\", \"eta\", \"sin_phi\", \"cos_phi\", \"charge\"]])\n",
    "\n",
    "        conf = expanalysis.best_result.pop(\"config\")\n",
    "\n",
    "        expanalysis.best_result.update({\"val_reg_loss\": val_reg_loss, \"reg_loss\": reg_loss})\n",
    "        expanalysis.best_result.update({x: conf[x] for x in conf})\n",
    "\n",
    "        summ.append(pd.DataFrame(expanalysis.best_result, index=[exp_dir]))\n",
    "        expanalysis.best_result.update({\"config\": conf})\n",
    "    return pd.concat(summ)\n",
    "    "
   ]
  },
  {
   "cell_type": "code",
   "execution_count": null,
   "id": "0ae5c09b-e1f7-43ba-9fbd-dccb7033cd95",
   "metadata": {},
   "outputs": [],
   "source": [
    "summary = summarize_best_results(expanalysis_list)"
   ]
  },
  {
   "cell_type": "markdown",
   "id": "3047f439-6769-4d14-81c0-86fd70a4936a",
   "metadata": {},
   "source": [
    "## Don't forget to consider which datases the models were tuned on and tested. That affects all evaluation metrics."
   ]
  },
  {
   "cell_type": "code",
   "execution_count": null,
   "id": "7f624e2d-9d28-4665-a62c-5f522a2efc70",
   "metadata": {},
   "outputs": [],
   "source": [
    "interesting = [\"loss\", \"val_loss\",\n",
    "               \"cls_loss\", \"val_cls_loss\",\n",
    "               \"reg_loss\", \"val_reg_loss\",\n",
    "               # 'cls_acc_unweighted', 'val_cls_acc_weighted',\n",
    "               # 'cls_acc_unweighted', 'val_cls_acc_unweighted',\n",
    "              ]\n",
    "interesting += [x for x in expanalysis.best_result[\"config\"].keys()]\n",
    "summary.sort_values(default_metric)\n",
    "summary[interesting].transpose()"
   ]
  },
  {
   "cell_type": "code",
   "execution_count": null,
   "id": "b357e0f8-6226-4e66-be7c-0ddf629ac106",
   "metadata": {},
   "outputs": [],
   "source": []
  }
 ],
 "metadata": {
  "kernelspec": {
   "display_name": "tf2",
   "language": "python",
   "name": "tf2"
  },
  "language_info": {
   "codemirror_mode": {
    "name": "ipython",
    "version": 3
   },
   "file_extension": ".py",
   "mimetype": "text/x-python",
   "name": "python",
   "nbconvert_exporter": "python",
   "pygments_lexer": "ipython3",
   "version": "3.9.5"
  }
 },
 "nbformat": 4,
 "nbformat_minor": 5
}
